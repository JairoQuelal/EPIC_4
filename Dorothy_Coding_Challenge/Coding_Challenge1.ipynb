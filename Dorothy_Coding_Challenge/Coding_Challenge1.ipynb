{
  "cells": [
    {
      "cell_type": "markdown",
      "metadata": {
        "id": "view-in-github",
        "colab_type": "text"
      },
      "source": [
        "<a href=\"https://colab.research.google.com/github/wbandabarragan/EPIC_4/blob/main/Dorothy_Coding_Challenge/Coding_Challenge1.ipynb\" target=\"_parent\"><img src=\"https://colab.research.google.com/assets/colab-badge.svg\" alt=\"Open In Colab\"/></a>"
      ]
    },
    {
      "cell_type": "markdown",
      "metadata": {
        "id": "aaxXDEFi3x-t"
      },
      "source": [
        "# Coding Challenge 1: Projectile Motion Calculator\n",
        "\n",
        "## Problem Statement:\n",
        "\n",
        "You are tasked with writing a Python script that calculates the trajectory of a projectile given initial velocity and launch angle. The projectile motion is assumed to occur in a vacuum (no air resistance) and under the influence of gravity (acceleration due to gravity is $g = 9.81 m/s^2$).\n",
        "\n",
        "### Requirements:\n",
        "\n",
        "#### Inputs:\n",
        "\n",
        "- Initial velocity of the projectile ($v_0$) in meters per second ($m/s$).\n",
        "\n",
        "- Launch angle ($\\theta$) in degrees.\n",
        "\n",
        "#### Outputs:\n",
        "\n",
        "- Maximum height reached by the projectile ($h_{max}$).\n",
        "\n",
        "- Total flight time of the projectile (T).\n",
        "\n",
        "- Horizontal range of the projectile (R).\n",
        "\n",
        "#### Formulas:\n",
        "\n",
        "- Maximum height $$ h_{max} = \\frac{v_0^2 \\sin^2(\\theta)}{2g}$$\n",
        "\n",
        "- Total flight time $$ T = \\frac{2 v_0 \\sin(\\theta)}{g}$$\n",
        "\n",
        "- Horizontal range $$ R = \\frac{v_0^2 \\sin(2\\theta)}{g}$$\n",
        "\n",
        "#### Instructions:\n",
        "\n",
        "1. Write a Python function projectile_motion that takes $v_0$ (initial velocity in m/s) and $\\theta$ (launch angle in degrees) as inputs and returns a tuple ($h_{max}$, T, R) where h_max is the maximum height (in meters), T is the total flight time (in seconds), and R is the horizontal range (in meters).\n",
        "\n",
        "2. Ensure your function handles the conversion of angle from degrees to radians where necessary.\n",
        "\n",
        "3. Print the results rounded to two decimal places.\n",
        "\n",
        "4. Generate a plot that shows the motion of the projectile with 3 different input parameters.\n"
      ]
    },
    {
      "cell_type": "code",
      "execution_count": null,
      "metadata": {
        "id": "X59nPFbx5vLF"
      },
      "outputs": [],
      "source": []
    }
  ],
  "metadata": {
    "colab": {
      "provenance": [],
      "include_colab_link": true
    },
    "kernelspec": {
      "display_name": "Python 3",
      "name": "python3"
    },
    "language_info": {
      "name": "python"
    }
  },
  "nbformat": 4,
  "nbformat_minor": 0
}