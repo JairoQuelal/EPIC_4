{
  "cells": [
    {
      "cell_type": "markdown",
      "metadata": {},
      "source": [
        "# Python Coding Challenge 2: Cloud Edge Detection\n",
        "\n",
        "## Problem Statement:\n",
        "You are tasked with writing a Python script that reads in an image containing clouds, isolates the clouds from the background sky, and detects the edges of these clouds.\n",
        "\n",
        "### Requirements:\n",
        "\n",
        "#### Inputs:\n",
        "\n",
        "- Image\n",
        "\n",
        "#### Outputs:\n",
        "\n",
        "- Binary image with 1's in the detected clouds and 0's in the background.\n",
        "\n",
        "- Binary image with 1's in the cloud edges and 0'e everywhere else.\n",
        "\n",
        "\n",
        "#### Instructions:\n",
        "\n",
        "1. Read in the input image.\n",
        "\n",
        "2. Isolate the clouds using your preferred method, e.g you can use thresholding.\n",
        "\n",
        "3. Apply an edge detection algorithm to detect the edges of the clouds.\n"
      ]
    },
    {
      "cell_type": "code",
      "execution_count": null,
      "metadata": {
        "id": "X59nPFbx5vLF"
      },
      "outputs": [],
      "source": []
    }
  ],
  "metadata": {
    "colab": {
      "provenance": []
    },
    "kernelspec": {
      "display_name": "Python 3",
      "name": "python3"
    },
    "language_info": {
      "name": "python"
    }
  },
  "nbformat": 4,
  "nbformat_minor": 0
}
