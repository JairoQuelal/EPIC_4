{
  "cells": [
    {
      "cell_type": "markdown",
      "metadata": {
        "id": "view-in-github",
        "colab_type": "text"
      },
      "source": [
        "<a href=\"https://colab.research.google.com/github/wbandabarragan/EPIC_4/blob/main/Dorothy_Coding_Challenge/Coding_Challenge2.ipynb\" target=\"_parent\"><img src=\"https://colab.research.google.com/assets/colab-badge.svg\" alt=\"Open In Colab\"/></a>"
      ]
    },
    {
      "cell_type": "markdown",
      "metadata": {
        "id": "jwt-Xk-zuFhk"
      },
      "source": [
        "# Python Coding Challenge 2: Cloud Edge Detection\n",
        "\n",
        "## Problem Statement:\n",
        "You are tasked with writing a Python script that reads in an image containing clouds, isolates the clouds from the background sky, and detects the edges of these clouds.\n",
        "\n",
        "### Requirements:\n",
        "\n",
        "#### Inputs:\n",
        "\n",
        "- Image\n",
        "\n",
        "#### Outputs:\n",
        "\n",
        "- Binary image with 1's in the detected clouds and 0's in the background.\n",
        "\n",
        "- Binary image with 1's in the cloud edges and 0'e everywhere else.\n",
        "\n",
        "\n",
        "#### Instructions:\n",
        "\n",
        "1. Read in the input image.\n",
        "\n",
        "2. Isolate the clouds using your preferred method, e.g you can use thresholding.\n",
        "\n",
        "3. Apply an edge detection algorithm to detect the edges of the clouds.\n"
      ]
    },
    {
      "cell_type": "code",
      "execution_count": null,
      "metadata": {
        "id": "X59nPFbx5vLF"
      },
      "outputs": [],
      "source": []
    }
  ],
  "metadata": {
    "colab": {
      "provenance": [],
      "include_colab_link": true
    },
    "kernelspec": {
      "display_name": "Python 3",
      "name": "python3"
    },
    "language_info": {
      "name": "python"
    }
  },
  "nbformat": 4,
  "nbformat_minor": 0
}